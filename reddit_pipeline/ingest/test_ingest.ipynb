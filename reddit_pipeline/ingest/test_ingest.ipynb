{
 "cells": [
  {
   "cell_type": "code",
   "execution_count": 1,
   "id": "b39ec974-6565-46a8-bc0e-ca5e06049a18",
   "metadata": {},
   "outputs": [],
   "source": [
    "import os, json, time, gzip, io, datetime as dt\n",
    "from pathlib import Path\n",
    "from dotenv import load_dotenv\n",
    "import boto3, praw"
   ]
  },
  {
   "cell_type": "code",
   "execution_count": 2,
   "id": "d6449aee-871a-43d1-8a33-4d0e2b5a8885",
   "metadata": {},
   "outputs": [],
   "source": [
    "# config\n",
    "# ROOT = Path(__file__).resolve().parents[1]\n",
    "ROOT = Path('/home/ubuntu/deds2025b_proj/opt/reddit_pipeline')    # FOR NOTEBOOK ONLY\n",
    "load_dotenv(ROOT / '.env')\n",
    "\n",
    "BUCKET = os.environ[\"LAKE_BUCKET\"]\n",
    "PREFIX = \"bronze/reddit\"\n",
    "REDDIT_SECRET_ARN = os.environ[\"REDDIT_SECRET_ARN\"]\n",
    "s3 = boto3.client(\"s3\")\n",
    "secrets = boto3.client(\"secretsmanager\")"
   ]
  },
  {
   "cell_type": "code",
   "execution_count": 3,
   "id": "ae476df9-f13b-40c1-85b2-547d59b57f25",
   "metadata": {},
   "outputs": [],
   "source": [
    "subreddits = [\n",
    "    'Philippines', 'OffMyChestPH', 'adultingph', 'AskPH'\n",
    "]\n",
    "keywords = [\n",
    "    'cancer', 'malignant', 'Malignant', 'Metastasis', 'Neoplasm', 'Tumor',\n",
    "    'Carcinoma', 'Sarcoma', 'Benign', 'Tumor Grade', 'Prognosis', \n",
    "    'Chemotherapy', 'Immunotherapy', 'Biopsy', 'Remission', 'Oncology'\n",
    "]\n",
    "max_posts = 150\n",
    "since_hours = 8760"
   ]
  },
  {
   "cell_type": "code",
   "execution_count": 4,
   "id": "8fe29ffc-9c2a-40dd-bd53-0f49cc37564d",
   "metadata": {},
   "outputs": [],
   "source": [
    "# --- helper functions ---\n",
    "def reddit_client():\n",
    "    cfg = json.loads(secrets.get_secret_value(SecretId=REDDIT_SECRET_ARN)['SecretString'])\n",
    "    return praw.Reddit(\n",
    "        client_id=cfg['client_id'],\n",
    "        client_secret=cfg['client_secret'],\n",
    "        user_agent='aws:batch-ec2:1.0 (by u/Entire-Success-5370)'\n",
    "        )\n",
    "\n",
    "def dump_jsonl_gz(objs, key):\n",
    "    buf = io.BytesIO()\n",
    "    with gzip.GzipFile(fileobj=buf, mode='wb') as gz:\n",
    "        for o in objs:\n",
    "            gz.write((json.dumps(o, ensure_ascii=False)+'\\n').encode('utf-8'))\n",
    "    buf.seek(0)\n",
    "    s3.upload_fileobj(buf, BUCKET, key)\n",
    "\n",
    "def run(subs=subreddits, max_posts=150, since_hours=168):\n",
    "    rd = reddit_client()\n",
    "    run_id = dt.datetime.now(dt.UTC).strftime('%Y%m%dT%H%M%SZ')\n",
    "    dt_part = dt.datetime.now(dt.UTC).strftime('%Y-%m-%d')\n",
    "    cutoff = time.time() - since_hours*3600\n",
    "\n",
    "    for sr in subs:\n",
    "        posts, comments = [], []\n",
    "        for p in rd.subreddit(sr).new(limit=None):\n",
    "            if len(posts) >= max_posts or p.created_utc < cutoff:\n",
    "                break\n",
    "            if any(k.lower() in p.title.lower() for k in keywords):\n",
    "                posts.append(\n",
    "                    {\n",
    "                        # for post table\n",
    "                        'kind':'post',\n",
    "                        'post_name':p.name,\n",
    "                        'title': p.title,\n",
    "                        'selftext': p.selftext or '',\n",
    "                        'score': p.score,\n",
    "                        'upvote_ratio': p.upvote_ratio,\n",
    "                        'num_comments': p.num_comments,\n",
    "                        'url': p.url or '',\n",
    "                        'created_utc': p.created_utc,                        \n",
    "                    \n",
    "                        #for author table\n",
    "                        'author_fullname': p.author_fullname,\n",
    "                        'author': str(p.author).split(\"='\")[-1].replace(\"')\", \"\"),\n",
    "                        'author_premium': p.author_premium,\n",
    "                        \n",
    "                        # for subreddit table\n",
    "                        'subreddit_id':p.subreddit_id,\n",
    "                        'subreddit_name_prefixed': str(p.subreddit_name_prefixed),\n",
    "                        'subreddit_type': p.subreddit_type,\n",
    "                        'subreddit_subscribers': p.subreddit_subscribers,\n",
    "                    }\n",
    "                )\n",
    "                p.comments.replace_more(limit=None)\n",
    "                for c in p.comments.list():\n",
    "                    comments.append(\n",
    "                        {\n",
    "                            'kind':'comment',\n",
    "                            'id':c.id,\n",
    "                            'name':c.name,\n",
    "                            'link_id':c.link_id,\n",
    "                            'parent_id':c.parent_id, # links the comment to parent `name`\n",
    "                            'subreddit':str(c.subreddit),\n",
    "                            'created_utc':c.created_utc,\n",
    "                            'body':c.body or '',\n",
    "                            'author':str(c.author) if c.author else None,\n",
    "                            'score':c.score\n",
    "                        }\n",
    "                    )\n",
    "                time.sleep(0.5)\n",
    "\n",
    "        base = f'{PREFIX}/dt={dt_part}/subreddit={sr}/run_id={run_id}'\n",
    "        if posts:\n",
    "            dump_jsonl_gz(posts, f'{base}/posts.jsonl.gz')\n",
    "        if comments:\n",
    "            dump_jsonl_gz(comments, f'{base}/comments.jsonl.gz')\n",
    "    print('DONE', run_id)"
   ]
  },
  {
   "cell_type": "code",
   "execution_count": 6,
   "id": "f4919807-a4b1-4c12-9a07-ab36d5cd3273",
   "metadata": {},
   "outputs": [
    {
     "name": "stdout",
     "output_type": "stream",
     "text": [
      "DONE 20250823T165659Z\n"
     ]
    }
   ],
   "source": [
    "run(subreddits, max_posts=1, since_hours=since_hours)"
   ]
  },
  {
   "cell_type": "code",
   "execution_count": 3,
   "id": "88d7c841-b5ab-4dbd-9f72-9abbd69d3b37",
   "metadata": {},
   "outputs": [],
   "source": [
    "cfg = json.loads(secrets.get_secret_value(SecretId=REDDIT_SECRET_ARN)['SecretString'])\n",
    "\n",
    "reddit = praw.Reddit(\n",
    "    client_id=cfg['client_id'],\n",
    "    client_secret=cfg['client_secret'],\n",
    "    user_agent='aws:batch-ec2:1.0 (by u/Entire-Success-5370)',\n",
    "    # ratelimit_seconds=None\n",
    ")"
   ]
  },
  {
   "cell_type": "code",
   "execution_count": 9,
   "id": "1082bfe1-b557-4e62-bd39-db3c9234aa60",
   "metadata": {},
   "outputs": [
    {
     "name": "stdout",
     "output_type": "stream",
     "text": [
      "{'_replies': <praw.models.comment_forest.CommentForest object at 0x7f6550e11b50>, '_submission': Submission(id='1mzxh08'), '_reddit': <praw.reddit.Reddit object at 0x7f6550d96510>, 'subreddit_id': 't5_35ezb', 'approved_at_utc': None, 'author_is_blocked': False, 'comment_type': None, 'awarders': [], 'mod_reason_by': None, 'banned_by': None, 'author_flair_type': 'text', 'total_awards_received': 0, 'subreddit': Subreddit(display_name='IndustrialPharmacy'), 'author_flair_template_id': None, 'likes': None, 'user_reports': [], 'saved': False, 'id': 'naq3cyb', 'banned_at_utc': None, 'mod_reason_title': None, 'gilded': 0, 'archived': False, 'collapsed_reason_code': None, 'no_follow': True, 'author': Redditor(name='Previous-Lobster129'), 'can_mod_post': False, 'created_utc': 1756192984.0, 'send_replies': True, 'parent_id': 't3_1mzxh08', 'score': 1, 'author_fullname': 't2_1u9coamw95', 'approved_by': None, 'mod_note': None, 'all_awardings': [], 'collapsed': False, 'body': 'Maybe due to feel more relax during weekend?', 'edited': False, 'top_awarded_type': None, 'author_flair_css_class': None, 'name': 't1_naq3cyb', 'is_submitter': False, 'downs': 0, 'author_flair_richtext': [], 'author_patreon_flair': False, 'body_html': '<div class=\"md\"><p>Maybe due to feel more relax during weekend?</p>\\n</div>', 'removal_reason': None, 'collapsed_reason': None, 'distinguished': None, 'associated_award': None, 'stickied': False, 'author_premium': False, 'can_gild': False, 'gildings': {}, 'unrepliable_reason': None, 'author_flair_text_color': None, 'score_hidden': False, 'permalink': '/r/IndustrialPharmacy/comments/1mzxh08/obstructive_sleep_apnea_severity_higher_on/naq3cyb/', 'subreddit_type': 'restricted', 'locked': False, 'report_reasons': None, 'created': 1756192984.0, 'author_flair_text': None, 'treatment_tags': [], 'link_id': 't3_1mzxh08', 'subreddit_name_prefixed': 'r/IndustrialPharmacy', 'controversiality': 0, 'depth': 0, 'author_flair_background_color': None, 'collapsed_because_crowd_control': None, 'mod_reports': [], 'num_reports': None, 'ups': 1, '_fetched': True}\n"
     ]
    }
   ],
   "source": [
    "for p in reddit.subreddit(\"IndustrialPharmacy\").new(limit=None):\n",
    "    if p.name == 't3_1mzxh08':\n",
    "        for c in p.comments.list():\n",
    "            if c.name == 't1_naq3cyb':\n",
    "                print(vars(c))\n",
    "                break"
   ]
  },
  {
   "cell_type": "code",
   "execution_count": 33,
   "id": "ffbb9c27-504a-4ae9-b945-182b38dfa933",
   "metadata": {},
   "outputs": [
    {
     "name": "stdout",
     "output_type": "stream",
     "text": [
      "If curing cancer and AIDS forever required sacrificing your sibling, how would you decide and could you live with the choice?\n"
     ]
    }
   ],
   "source": [
    "keywords = [\n",
    "    'cancer', 'malignant', 'Malignant', 'Metastasis', 'Neoplasm', 'Tumor',\n",
    "    'Carcinoma', 'Sarcoma', 'Benign', 'Tumor Grade', 'Prognosis', \n",
    "    'Chemotherapy', 'Immunotherapy', 'Biopsy', 'Remission', 'Oncology'\n",
    "]\n",
    "\n",
    "for p in reddit.subreddit(\"AskPH\").new(limit=None):\n",
    "    if any(k.lower() in p.title.lower() for k in keywords):\n",
    "        # if p.selftext:\n",
    "        print(p.title)\n",
    "        p.comments.replace_more(limit=0)\n",
    "        take=0\n",
    "        break"
   ]
  },
  {
   "cell_type": "code",
   "execution_count": 12,
   "id": "0cc3de5f-5cf6-417a-8efc-570959e2187c",
   "metadata": {},
   "outputs": [
    {
     "name": "stdout",
     "output_type": "stream",
     "text": [
      "Are you in favor of medically assisted suicide?\n",
      "Why and why not?\n",
      "\n",
      " If yes, what are the conditions or qualifications of a possible applicant you are in favor to be allowed to go through the process? \n"
     ]
    }
   ],
   "source": [
    "submission = reddit.submission(\"1bc4pw5\")\n",
    "print(submission.title)  # to make it non-lazy\n",
    "print(submission.selftext)"
   ]
  },
  {
   "cell_type": "code",
   "execution_count": 13,
   "id": "910386aa-0e3b-41fd-8232-c4e63fea790a",
   "metadata": {},
   "outputs": [
    {
     "name": "stdout",
     "output_type": "stream",
     "text": [
      "Are you in favor of medically assisted suicide?\n",
      "{'comment_limit': 2048, 'comment_sort': 'confidence', 'id': '1bc4pw5', '_reddit': <praw.reddit.Reddit object at 0x7b6812e256d0>, '_fetched': True, '_additional_fetch_params': {}, '_comments_by_id': {'t1_kudfurz': Comment(id='kudfurz'), 't1_kudmu09': Comment(id='kudmu09'), 't1_kudn3dl': Comment(id='kudn3dl'), 't1_kufzbdv': Comment(id='kufzbdv'), 't1_kudmzo8': Comment(id='kudmzo8'), 't1_kuhf9b2': Comment(id='kuhf9b2'), 't1_kuhichq': Comment(id='kuhichq'), 't1_kudtdob': Comment(id='kudtdob'), 't1_kudyk4p': Comment(id='kudyk4p'), 't1_kudun7t': Comment(id='kudun7t'), 't1_kueq3sr': Comment(id='kueq3sr'), 't1_kugtti9': Comment(id='kugtti9'), 't1_kuh2c16': Comment(id='kuh2c16'), 't1_kuhm2rr': Comment(id='kuhm2rr'), 't1_kuhm509': Comment(id='kuhm509'), 't1_kudsfha': Comment(id='kudsfha'), 't1_kue6sl6': Comment(id='kue6sl6'), 't1_kue7rul': Comment(id='kue7rul'), 't1_kuel1g9': Comment(id='kuel1g9'), 't1_kudoh8l': Comment(id='kudoh8l'), 't1_kueoh8j': Comment(id='kueoh8j'), 't1_kufa7dw': Comment(id='kufa7dw'), 't1_kugqde5': Comment(id='kugqde5'), 't1_kv4koji': Comment(id='kv4koji'), 't1_kue3mwu': Comment(id='kue3mwu'), 't1_kug51rj': Comment(id='kug51rj'), 't1_kugaaw8': Comment(id='kugaaw8'), 't1_kugg0bx': Comment(id='kugg0bx'), 't1_kuedqy8': Comment(id='kuedqy8'), 't1_kugdpgz': Comment(id='kugdpgz'), 't1_kudseco': Comment(id='kudseco'), 't1_kudz62c': Comment(id='kudz62c'), 't1_kue31yw': Comment(id='kue31yw'), 't1_kue397s': Comment(id='kue397s'), 't1_kue3npo': Comment(id='kue3npo'), 't1_kue6zr9': Comment(id='kue6zr9'), 't1_kue704y': Comment(id='kue704y'), 't1_kuecebo': Comment(id='kuecebo'), 't1_kuedcvo': Comment(id='kuedcvo'), 't1_kuedypa': Comment(id='kuedypa'), 't1_kuemzs5': Comment(id='kuemzs5'), 't1_kueyqfg': Comment(id='kueyqfg'), 't1_kuf14pj': Comment(id='kuf14pj'), 't1_kufhnuv': Comment(id='kufhnuv'), 't1_kufl91j': Comment(id='kufl91j'), 't1_kufmg3l': Comment(id='kufmg3l'), 't1_kufs7kf': Comment(id='kufs7kf'), 't1_kug2452': Comment(id='kug2452'), 't1_kugan9n': Comment(id='kugan9n'), 't1_kugd296': Comment(id='kugd296'), 't1_kugqzyq': Comment(id='kugqzyq'), 't1_kugx26k': Comment(id='kugx26k'), 't1_kuh0wuj': Comment(id='kuh0wuj'), 't1_kuh2nka': Comment(id='kuh2nka'), 't1_kuhay5m': Comment(id='kuhay5m'), 't1_kuhb79c': Comment(id='kuhb79c'), 't1_kuhu8xw': Comment(id='kuhu8xw'), 't1_kui0tvh': Comment(id='kui0tvh'), 't1_kui3zhx': Comment(id='kui3zhx'), 't1_kuticwa': Comment(id='kuticwa'), 't1_kvmuhec': Comment(id='kvmuhec'), 't1_kue3nnk': Comment(id='kue3nnk'), 't1_kuds2vt': Comment(id='kuds2vt'), 't1_kuengti': Comment(id='kuengti'), 't1_kuds4s4': Comment(id='kuds4s4')}, 'approved_at_utc': None, 'subreddit': Subreddit(display_name='AskPH'), 'selftext': 'Why and why not?\\n\\n If yes, what are the conditions or qualifications of a possible applicant you are in favor to be allowed to go through the process? ', 'user_reports': [], 'saved': False, 'mod_reason_title': None, 'gilded': 0, 'clicked': False, 'title': 'Are you in favor of medically assisted suicide?', 'link_flair_richtext': [{'e': 'text', 't': 'Why?'}], 'subreddit_name_prefixed': 'r/AskPH', 'hidden': False, 'pwls': 6, 'link_flair_css_class': '', 'downs': 0, 'thumbnail_height': None, 'top_awarded_type': None, 'hide_score': False, 'name': 't3_1bc4pw5', 'quarantine': False, 'link_flair_text_color': 'dark', 'upvote_ratio': 0.94, 'author_flair_background_color': None, 'subreddit_type': 'public', 'ups': 142, 'total_awards_received': 0, 'media_embed': {}, 'thumbnail_width': None, 'author_flair_template_id': None, 'is_original_content': False, 'author_fullname': 't2_dzlmxlhf', 'secure_media': None, 'is_reddit_media_domain': False, 'is_meta': False, 'category': None, 'secure_media_embed': {}, 'link_flair_text': 'Why?', 'can_mod_post': False, 'score': 142, 'approved_by': None, 'is_created_from_ads_ui': False, 'author_premium': False, 'thumbnail': 'self', 'edited': False, 'author_flair_css_class': None, 'author_flair_richtext': [], 'gildings': {}, 'content_categories': None, 'is_self': True, 'mod_note': None, 'created': 1710167919.0, 'link_flair_type': 'richtext', 'wls': 6, 'removed_by_category': None, 'banned_by': None, 'author_flair_type': 'text', 'domain': 'self.AskPH', 'allow_live_comments': False, 'selftext_html': '<!-- SC_OFF --><div class=\"md\"><p>Why and why not?</p>\\n\\n<p>If yes, what are the conditions or qualifications of a possible applicant you are in favor to be allowed to go through the process? </p>\\n</div><!-- SC_ON -->', 'likes': None, 'suggested_sort': 'new', 'banned_at_utc': None, 'view_count': None, 'archived': True, 'no_follow': False, 'is_crosspostable': False, 'pinned': False, 'over_18': False, 'all_awardings': [], 'awarders': [], 'media_only': False, 'link_flair_template_id': 'f3927db0-58ec-11eb-b8e6-0ecfba54934f', 'can_gild': False, 'spoiler': False, 'locked': True, 'author_flair_text': None, 'treatment_tags': [], 'visited': False, 'removed_by': None, 'num_reports': None, 'distinguished': None, 'subreddit_id': 't5_3a7odq', 'author_is_blocked': False, 'mod_reason_by': None, 'removal_reason': None, 'link_flair_background_color': '#ff8717', 'is_robot_indexable': True, 'num_duplicates': 0, 'report_reasons': None, 'author': Redditor(name='sadlynotthefittest'), 'discussion_type': None, 'num_comments': 74, 'send_replies': True, 'media': None, 'contest_mode': False, 'author_patreon_flair': False, 'author_flair_text_color': None, 'permalink': '/r/AskPH/comments/1bc4pw5/are_you_in_favor_of_medically_assisted_suicide/', 'stickied': False, 'url': 'https://www.reddit.com/r/AskPH/comments/1bc4pw5/are_you_in_favor_of_medically_assisted_suicide/', 'subreddit_subscribers': 411363, 'created_utc': 1710167919.0, 'num_crossposts': 0, 'mod_reports': [], 'is_video': False, '_comments': <praw.models.comment_forest.CommentForest object at 0x7b68124a7e90>}\n"
     ]
    }
   ],
   "source": [
    "submission = reddit.submission(\"1bc4pw5\")\n",
    "print(submission.title)  # to make it non-lazy\n",
    "print(vars(submission))"
   ]
  },
  {
   "cell_type": "code",
   "execution_count": 17,
   "id": "e501b594-7d29-415b-892e-32c699b1579a",
   "metadata": {},
   "outputs": [
    {
     "name": "stdout",
     "output_type": "stream",
     "text": [
      "Are you in favor of medically assisted suicide?\n",
      "{'_replies': <praw.models.comment_forest.CommentForest object at 0x7b681233e510>, '_submission': Submission(id='1bc4pw5'), '_reddit': <praw.reddit.Reddit object at 0x7b6812e256d0>, 'subreddit_id': 't5_3a7odq', 'approved_at_utc': None, 'author_is_blocked': False, 'comment_type': None, 'awarders': [], 'mod_reason_by': None, 'banned_by': None, 'author_flair_type': 'text', 'total_awards_received': 0, 'subreddit': Subreddit(display_name='AskPH'), 'author_flair_template_id': None, 'likes': None, 'user_reports': [], 'saved': False, 'id': 'kudfurz', 'banned_at_utc': None, 'mod_reason_title': None, 'gilded': 0, 'archived': True, 'collapsed_reason_code': None, 'no_follow': False, 'author': Redditor(name='toinks1345'), 'can_mod_post': False, 'created_utc': 1710168427.0, 'send_replies': True, 'parent_id': 't3_1bc4pw5', 'score': 103, 'author_fullname': 't2_uxt1nmmi', 'approved_by': None, 'mod_note': None, 'all_awardings': [], 'collapsed': True, 'body': \"depends on the situation. if I have cancer and I've already done everything I want, it's just painful to continue living. there's no cure and I've already said my goodbyes. give it to me.\", 'edited': False, 'top_awarded_type': None, 'author_flair_css_class': None, 'name': 't1_kudfurz', 'is_submitter': False, 'downs': 0, 'author_flair_richtext': [], 'author_patreon_flair': False, 'body_html': '<div class=\"md\"><p>depends on the situation. if I have cancer and I&#39;ve already done everything I want, it&#39;s just painful to continue living. there&#39;s no cure and I&#39;ve already said my goodbyes. give it to me.</p>\\n</div>', 'removal_reason': None, 'collapsed_reason': None, 'distinguished': None, 'associated_award': None, 'stickied': False, 'author_premium': False, 'can_gild': False, 'gildings': {}, 'unrepliable_reason': None, 'author_flair_text_color': None, 'score_hidden': False, 'permalink': '/r/AskPH/comments/1bc4pw5/are_you_in_favor_of_medically_assisted_suicide/kudfurz/', 'subreddit_type': 'public', 'locked': False, 'report_reasons': None, 'created': 1710168427.0, 'author_flair_text': None, 'treatment_tags': [], 'link_id': 't3_1bc4pw5', 'subreddit_name_prefixed': 'r/AskPH', 'controversiality': 0, 'depth': 0, 'author_flair_background_color': None, 'collapsed_because_crowd_control': None, 'mod_reports': [], 'num_reports': None, 'ups': 103, '_fetched': True}\n"
     ]
    }
   ],
   "source": [
    "submission = reddit.submission(\"1bc4pw5\")\n",
    "print(submission.title)  # to make it non-lazy\n",
    "for c in submission.comments.list():\n",
    "    print(vars(c))\n",
    "    break"
   ]
  },
  {
   "cell_type": "code",
   "execution_count": 18,
   "id": "c2563802-5f33-4f8c-a5e4-06a6d3e68aee",
   "metadata": {},
   "outputs": [
    {
     "name": "stdout",
     "output_type": "stream",
     "text": [
      "Are you in favor of medically assisted suicide?\n",
      "{'_replies': <praw.models.comment_forest.CommentForest object at 0x7b681233dfd0>, '_submission': Submission(id='1bc4pw5'), '_reddit': <praw.reddit.Reddit object at 0x7b6812e256d0>, 'subreddit_id': 't5_3a7odq', 'approved_at_utc': None, 'author_is_blocked': False, 'comment_type': None, 'awarders': [], 'mod_reason_by': None, 'banned_by': None, 'author_flair_type': 'text', 'total_awards_received': 0, 'subreddit': Subreddit(display_name='AskPH'), 'author_flair_template_id': None, 'likes': None, 'user_reports': [], 'saved': False, 'id': 'kufzbdv', 'banned_at_utc': None, 'mod_reason_title': None, 'gilded': 0, 'archived': True, 'collapsed_reason_code': None, 'no_follow': True, 'author': Redditor(name='Jon_Irenicus1'), 'can_mod_post': False, 'created_utc': 1710199496.0, 'send_replies': True, 'parent_id': 't1_kudfurz', 'score': 1, 'author_fullname': 't2_awynrqva', 'removal_reason': None, 'approved_by': None, 'mod_note': None, 'all_awardings': [], 'body': 'Same', 'edited': False, 'top_awarded_type': None, 'author_flair_css_class': None, 'name': 't1_kufzbdv', 'is_submitter': False, 'downs': 0, 'author_flair_richtext': [], 'author_patreon_flair': False, 'body_html': '<div class=\"md\"><p>Same</p>\\n</div>', 'gildings': {}, 'collapsed_reason': None, 'distinguished': None, 'associated_award': None, 'stickied': False, 'author_premium': False, 'can_gild': False, 'link_id': 't3_1bc4pw5', 'unrepliable_reason': None, 'author_flair_text_color': None, 'score_hidden': False, 'permalink': '/r/AskPH/comments/1bc4pw5/are_you_in_favor_of_medically_assisted_suicide/kufzbdv/', 'subreddit_type': 'public', 'locked': False, 'report_reasons': None, 'created': 1710199496.0, 'author_flair_text': None, 'treatment_tags': [], 'collapsed': True, 'subreddit_name_prefixed': 'r/AskPH', 'controversiality': 0, 'depth': 1, 'author_flair_background_color': None, 'collapsed_because_crowd_control': None, 'mod_reports': [], 'num_reports': None, 'ups': 1, '_fetched': True}\n"
     ]
    }
   ],
   "source": [
    "submission = reddit.submission(\"1bc4pw5\")\n",
    "print(submission.title)  # to make it non-lazy\n",
    "for c in submission.comments.list():\n",
    "    if c.id == 'kufzbdv':\n",
    "        print(vars(c))\n",
    "        break"
   ]
  },
  {
   "cell_type": "code",
   "execution_count": 26,
   "id": "7b3b359d-fff6-4b5e-9fe3-740cc344dd61",
   "metadata": {},
   "outputs": [
    {
     "name": "stdout",
     "output_type": "stream",
     "text": [
      "My mom has cancer and I want to leave her\n",
      "{'_replies': <praw.models.comment_forest.CommentForest object at 0x7b68122ab7d0>, '_submission': Submission(id='1mnyxnd'), '_reddit': <praw.reddit.Reddit object at 0x7b6812e256d0>, 'subreddit_id': 't5_28r1xe', 'approved_at_utc': None, 'author_is_blocked': False, 'comment_type': None, 'awarders': [], 'mod_reason_by': None, 'banned_by': None, 'author_flair_type': 'text', 'total_awards_received': 0, 'subreddit': Subreddit(display_name='OffMyChestPH'), 'author_flair_template_id': None, 'likes': None, 'user_reports': [], 'saved': False, 'id': 'n88ngnz', 'banned_at_utc': None, 'mod_reason_title': None, 'gilded': 0, 'archived': False, 'collapsed_reason_code': None, 'no_follow': True, 'author': Redditor(name='AutoModerator'), 'can_mod_post': False, 'created_utc': 1754975912.0, 'send_replies': False, 'parent_id': 't1_n88ngmu', 'score': 1, 'author_fullname': 't2_6l4z3', 'removal_reason': None, 'approved_by': None, 'mod_note': None, 'all_awardings': [], 'body': 'u/Little-Company-7916, your comment was removed because you have less than 200 combined karma.\\n\\n*I am a bot, and this action was performed automatically. Please [contact the moderators of this subreddit](/message/compose/?to=/r/OffMyChestPH) if you have any questions or concerns.*', 'edited': False, 'top_awarded_type': None, 'author_flair_css_class': None, 'name': 't1_n88ngnz', 'is_submitter': False, 'downs': 0, 'author_flair_richtext': [], 'author_patreon_flair': False, 'body_html': '<div class=\"md\"><p><a href=\"/u/Little-Company-7916\">u/Little-Company-7916</a>, your comment was removed because you have less than 200 combined karma.</p>\\n\\n<p><em>I am a bot, and this action was performed automatically. Please <a href=\"/message/compose/?to=/r/OffMyChestPH\">contact the moderators of this subreddit</a> if you have any questions or concerns.</em></p>\\n</div>', 'gildings': {}, 'collapsed_reason': None, 'distinguished': 'moderator', 'associated_award': None, 'stickied': False, 'author_premium': True, 'can_gild': False, 'link_id': 't3_1mnyxnd', 'unrepliable_reason': None, 'author_flair_text_color': None, 'score_hidden': False, 'permalink': '/r/OffMyChestPH/comments/1mnyxnd/my_mom_has_cancer_and_i_want_to_leave_her/n88ngnz/', 'subreddit_type': 'public', 'locked': False, 'report_reasons': None, 'created': 1754975912.0, 'author_flair_text': None, 'treatment_tags': [], 'collapsed': False, 'subreddit_name_prefixed': 'r/OffMyChestPH', 'controversiality': 0, 'depth': 1, 'author_flair_background_color': None, 'collapsed_because_crowd_control': None, 'mod_reports': [], 'num_reports': None, 'ups': 1, '_fetched': True}\n"
     ]
    }
   ],
   "source": [
    "submission = reddit.submission(\"1mnyxnd\")\n",
    "print(submission.title)  # to make it non-lazy\n",
    "for c in submission.comments.list():\n",
    "    if c.parent_id == 't1_n88ngmu':\n",
    "        print(vars(c))\n",
    "        break"
   ]
  },
  {
   "cell_type": "code",
   "execution_count": 31,
   "id": "ba7d3611-3ad8-45e6-bf36-c79662a5cc63",
   "metadata": {},
   "outputs": [
    {
     "name": "stdout",
     "output_type": "stream",
     "text": [
      "My mom has cancer and I want to leave her\n",
      "<class 'dict'>\n",
      "{'_replies': <praw.models.comment_forest.CommentForest object at 0x7b68122f1bb0>, '_submission': Submission(id='1mnyxnd'), '_reddit': <praw.reddit.Reddit object at 0x7b6812e256d0>, 'total_awards_received': 0, 'approved_at_utc': None, 'author_is_blocked': False, 'comment_type': None, 'awarders': [], 'mod_reason_by': None, 'banned_by': None, 'ups': 1, 'removal_reason': None, 'link_id': 't3_1mnyxnd', 'author_flair_template_id': None, 'likes': None, 'user_reports': [], 'saved': False, 'id': 'n88ngmu', 'banned_at_utc': None, 'mod_reason_title': None, 'gilded': 0, 'archived': False, 'collapsed_reason_code': None, 'no_follow': True, 'author': None, 'can_mod_post': False, 'send_replies': True, 'parent_id': 't3_1mnyxnd', 'score': 1, 'approved_by': None, 'report_reasons': None, 'all_awardings': [], 'subreddit_id': 't5_28r1xe', 'body': '[removed]', 'edited': False, 'downs': 0, 'author_flair_css_class': None, 'collapsed': False, 'is_submitter': False, 'body_html': '<div class=\"md\"><p>[removed]</p>\\n</div>', 'gildings': {}, 'collapsed_reason': None, 'associated_award': None, 'stickied': False, 'subreddit_type': 'public', 'can_gild': False, 'top_awarded_type': None, 'unrepliable_reason': None, 'author_flair_text_color': 'dark', 'score_hidden': False, 'permalink': '/r/OffMyChestPH/comments/1mnyxnd/my_mom_has_cancer_and_i_want_to_leave_her/n88ngmu/', 'num_reports': None, 'locked': False, 'name': 't1_n88ngmu', 'created': 1754975911.0, 'subreddit': Subreddit(display_name='OffMyChestPH'), 'author_flair_text': None, 'treatment_tags': [], 'created_utc': 1754975911.0, 'subreddit_name_prefixed': 'r/OffMyChestPH', 'controversiality': 0, 'depth': 0, 'author_flair_background_color': '', 'collapsed_because_crowd_control': None, 'mod_reports': [], 'mod_note': None, 'distinguished': None, '_fetched': True}\n"
     ]
    }
   ],
   "source": [
    "submission = reddit.submission(\"1mnyxnd\")\n",
    "print(submission.title)  # to make it non-lazy\n",
    "for c in submission.comments.list():\n",
    "    if c.name == 't1_n88ngmu':\n",
    "        print(type(vars(c)))\n",
    "        print(vars(c))\n",
    "        break"
   ]
  },
  {
   "cell_type": "code",
   "execution_count": 57,
   "id": "f3048178-e09c-4059-a4b7-2ba71881aeea",
   "metadata": {},
   "outputs": [
    {
     "name": "stdout",
     "output_type": "stream",
     "text": [
      "My mom has cancer and I want to leave her\n",
      "None\n",
      "None\n",
      "None\n",
      "None\n"
     ]
    }
   ],
   "source": [
    "submission = reddit.submission(\"1mnyxnd\")\n",
    "print(submission.title)  # to make it non-lazy\n",
    "for c in submission.comments.list():\n",
    "    if c.name == 't1_n88ngmu':\n",
    "        # print(f'{c.author_fullname if c.author_fullname else None}')\n",
    "        print(getattr(c, 'author_fullname', None))\n",
    "        print(getattr(c, 'author', None))\n",
    "        print(c.author)\n",
    "        print(str(c.author).split(\"='\")[-1].replace(\"')\", \"\"))"
   ]
  },
  {
   "cell_type": "code",
   "execution_count": 55,
   "id": "39c0da4f-987a-4db7-9ef1-cfedd1816544",
   "metadata": {},
   "outputs": [
    {
     "name": "stdout",
     "output_type": "stream",
     "text": [
      "My mom has cancer and I want to leave her\n",
      "t1_n88ngmu\n",
      "t2_6l4z3\n",
      "AutoModerator\n"
     ]
    }
   ],
   "source": [
    "submission = reddit.submission(\"1mnyxnd\")\n",
    "print(submission.title)  # to make it non-lazy\n",
    "for c in submission.comments.list():\n",
    "    if c.parent_id == 't1_n88ngmu':\n",
    "        print(c.parent_id)\n",
    "        print(c.author_fullname)\n",
    "        print(str(c.author).split(\"='\")[-1].replace(\"')\", \"\"))              \n",
    "        break"
   ]
  },
  {
   "cell_type": "code",
   "execution_count": 52,
   "id": "e27069b8-e2e5-4d71-8459-cdf770e6dd2a",
   "metadata": {},
   "outputs": [
    {
     "data": {
      "text/plain": [
       "Redditor(name='egghe4d-')"
      ]
     },
     "execution_count": 52,
     "metadata": {},
     "output_type": "execute_result"
    }
   ],
   "source": [
    "submission = reddit.submission(\"1mnyxnd\")\n",
    "\n",
    "getattr(submission, 'author', None)"
   ]
  }
 ],
 "metadata": {
  "kernelspec": {
   "display_name": "Python 3 (ipykernel)",
   "language": "python",
   "name": "python3"
  },
  "language_info": {
   "codemirror_mode": {
    "name": "ipython",
    "version": 3
   },
   "file_extension": ".py",
   "mimetype": "text/x-python",
   "name": "python",
   "nbconvert_exporter": "python",
   "pygments_lexer": "ipython3",
   "version": "3.13.5"
  }
 },
 "nbformat": 4,
 "nbformat_minor": 5
}
